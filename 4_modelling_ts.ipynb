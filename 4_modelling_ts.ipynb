{
 "cells": [
  {
   "cell_type": "markdown",
   "id": "e6420599-9615-4ae4-81bb-aa53ae73bcca",
   "metadata": {
    "tags": []
   },
   "source": [
    "### 0. Period between data rows"
   ]
  },
  {
   "cell_type": "code",
   "execution_count": 15,
   "id": "48d9ae75-6b88-4f02-8b0c-d3141082e9f2",
   "metadata": {},
   "outputs": [
    {
     "name": "stdout",
     "output_type": "stream",
     "text": [
      "(323410, 50)\n"
     ]
    },
    {
     "data": {
      "text/html": [
       "<div>\n",
       "<style scoped>\n",
       "    .dataframe tbody tr th:only-of-type {\n",
       "        vertical-align: middle;\n",
       "    }\n",
       "\n",
       "    .dataframe tbody tr th {\n",
       "        vertical-align: top;\n",
       "    }\n",
       "\n",
       "    .dataframe thead th {\n",
       "        text-align: right;\n",
       "    }\n",
       "</style>\n",
       "<table border=\"1\" class=\"dataframe\">\n",
       "  <thead>\n",
       "    <tr style=\"text-align: right;\">\n",
       "      <th></th>\n",
       "      <th>pkId</th>\n",
       "      <th>fkLinkSerialId</th>\n",
       "      <th>timestamp</th>\n",
       "      <th>speed</th>\n",
       "      <th>heading</th>\n",
       "      <th>msla</th>\n",
       "      <th>lat</th>\n",
       "      <th>long</th>\n",
       "      <th>tsReceived</th>\n",
       "      <th>dt</th>\n",
       "      <th>sunrise</th>\n",
       "      <th>sunset</th>\n",
       "      <th>temperature</th>\n",
       "      <th>feels_like</th>\n",
       "      <th>pressure</th>\n",
       "      <th>humidity</th>\n",
       "      <th>clouds</th>\n",
       "      <th>visibility</th>\n",
       "      <th>wind_speed</th>\n",
       "      <th>wind_gust</th>\n",
       "      <th>wind_deg</th>\n",
       "      <th>rain</th>\n",
       "      <th>snow</th>\n",
       "      <th>weatherid</th>\n",
       "      <th>place_type</th>\n",
       "      <th>accuracy</th>\n",
       "      <th>place_name</th>\n",
       "      <th>text</th>\n",
       "      <th>place</th>\n",
       "      <th>region</th>\n",
       "      <th>locality</th>\n",
       "      <th>neighborhood</th>\n",
       "      <th>postcode</th>\n",
       "      <th>country</th>\n",
       "      <th>timestamp_day</th>\n",
       "      <th>timestamp_month</th>\n",
       "      <th>ts_month</th>\n",
       "      <th>ts_hour</th>\n",
       "      <th>ts_season</th>\n",
       "      <th>ts_daypart</th>\n",
       "      <th>target_humidity</th>\n",
       "      <th>target_temperature</th>\n",
       "      <th>target_humidity_cat</th>\n",
       "      <th>target_temperature_cat</th>\n",
       "      <th>target_cat</th>\n",
       "      <th>lat_int</th>\n",
       "      <th>long_int</th>\n",
       "      <th>geo_group</th>\n",
       "      <th>fold</th>\n",
       "      <th>dt_diff</th>\n",
       "    </tr>\n",
       "  </thead>\n",
       "  <tbody>\n",
       "    <tr>\n",
       "      <th>8125</th>\n",
       "      <td>2603778</td>\n",
       "      <td>0X0004BFD036AA</td>\n",
       "      <td>2022-05-09 00:50:19</td>\n",
       "      <td>0</td>\n",
       "      <td>0</td>\n",
       "      <td>70</td>\n",
       "      <td>45.60</td>\n",
       "      <td>-73.62</td>\n",
       "      <td>2022-05-09 00:50:19</td>\n",
       "      <td>2022-05-09 00:50:19</td>\n",
       "      <td>2022-05-09 05:31:00</td>\n",
       "      <td>2022-05-09 20:10:51</td>\n",
       "      <td>9.45</td>\n",
       "      <td>7.52</td>\n",
       "      <td>1025</td>\n",
       "      <td>38</td>\n",
       "      <td>0</td>\n",
       "      <td>10000</td>\n",
       "      <td>3.60</td>\n",
       "      <td>0.00</td>\n",
       "      <td>20</td>\n",
       "      <td>0.00</td>\n",
       "      <td>0.00</td>\n",
       "      <td>800</td>\n",
       "      <td>address</td>\n",
       "      <td>rooftop</td>\n",
       "      <td>10889 Avenue Arthur-Buies, Montréal, Quebec H1...</td>\n",
       "      <td>Avenue Arthur-Buies</td>\n",
       "      <td>Montréal</td>\n",
       "      <td>CA-QC</td>\n",
       "      <td>NaN</td>\n",
       "      <td>Montréal-Nord</td>\n",
       "      <td>H1G 6N3</td>\n",
       "      <td>ca</td>\n",
       "      <td>2022-05-09</td>\n",
       "      <td>2022-05</td>\n",
       "      <td>5</td>\n",
       "      <td>0</td>\n",
       "      <td>2</td>\n",
       "      <td>1_night</td>\n",
       "      <td>NaN</td>\n",
       "      <td>NaN</td>\n",
       "      <td>NaN</td>\n",
       "      <td>NaN</td>\n",
       "      <td>NaN</td>\n",
       "      <td>45</td>\n",
       "      <td>-73</td>\n",
       "      <td>3.east</td>\n",
       "      <td>2</td>\n",
       "      <td>NaN</td>\n",
       "    </tr>\n",
       "    <tr>\n",
       "      <th>8127</th>\n",
       "      <td>2603780</td>\n",
       "      <td>0X0004BFD036AA</td>\n",
       "      <td>2022-05-09 00:50:37</td>\n",
       "      <td>0</td>\n",
       "      <td>0</td>\n",
       "      <td>62</td>\n",
       "      <td>45.60</td>\n",
       "      <td>-73.62</td>\n",
       "      <td>2022-05-09 00:50:37</td>\n",
       "      <td>2022-05-09 00:50:19</td>\n",
       "      <td>2022-05-09 05:31:00</td>\n",
       "      <td>2022-05-09 20:10:51</td>\n",
       "      <td>9.45</td>\n",
       "      <td>7.52</td>\n",
       "      <td>1025</td>\n",
       "      <td>38</td>\n",
       "      <td>0</td>\n",
       "      <td>10000</td>\n",
       "      <td>3.60</td>\n",
       "      <td>0.00</td>\n",
       "      <td>20</td>\n",
       "      <td>0.00</td>\n",
       "      <td>0.00</td>\n",
       "      <td>800</td>\n",
       "      <td>address</td>\n",
       "      <td>rooftop</td>\n",
       "      <td>5730 Boulevard Industriel, Montréal, Quebec H1...</td>\n",
       "      <td>Boulevard Industriel</td>\n",
       "      <td>Montréal</td>\n",
       "      <td>CA-QC</td>\n",
       "      <td>NaN</td>\n",
       "      <td>Montréal-Nord</td>\n",
       "      <td>H1G 4N6</td>\n",
       "      <td>ca</td>\n",
       "      <td>2022-05-09</td>\n",
       "      <td>2022-05</td>\n",
       "      <td>5</td>\n",
       "      <td>0</td>\n",
       "      <td>2</td>\n",
       "      <td>1_night</td>\n",
       "      <td>NaN</td>\n",
       "      <td>NaN</td>\n",
       "      <td>NaN</td>\n",
       "      <td>NaN</td>\n",
       "      <td>NaN</td>\n",
       "      <td>45</td>\n",
       "      <td>-73</td>\n",
       "      <td>3.east</td>\n",
       "      <td>1</td>\n",
       "      <td>18.00</td>\n",
       "    </tr>\n",
       "  </tbody>\n",
       "</table>\n",
       "</div>"
      ],
      "text/plain": [
       "         pkId  fkLinkSerialId           timestamp  speed  heading  msla   lat  \\\n",
       "8125  2603778  0X0004BFD036AA 2022-05-09 00:50:19      0        0    70 45.60   \n",
       "8127  2603780  0X0004BFD036AA 2022-05-09 00:50:37      0        0    62 45.60   \n",
       "\n",
       "       long          tsReceived                  dt             sunrise  \\\n",
       "8125 -73.62 2022-05-09 00:50:19 2022-05-09 00:50:19 2022-05-09 05:31:00   \n",
       "8127 -73.62 2022-05-09 00:50:37 2022-05-09 00:50:19 2022-05-09 05:31:00   \n",
       "\n",
       "                  sunset  temperature  feels_like  pressure  humidity  clouds  \\\n",
       "8125 2022-05-09 20:10:51         9.45        7.52      1025        38       0   \n",
       "8127 2022-05-09 20:10:51         9.45        7.52      1025        38       0   \n",
       "\n",
       "      visibility  wind_speed  wind_gust  wind_deg  rain  snow  weatherid  \\\n",
       "8125       10000        3.60       0.00        20  0.00  0.00        800   \n",
       "8127       10000        3.60       0.00        20  0.00  0.00        800   \n",
       "\n",
       "     place_type accuracy                                         place_name  \\\n",
       "8125    address  rooftop  10889 Avenue Arthur-Buies, Montréal, Quebec H1...   \n",
       "8127    address  rooftop  5730 Boulevard Industriel, Montréal, Quebec H1...   \n",
       "\n",
       "                      text     place region locality   neighborhood postcode  \\\n",
       "8125   Avenue Arthur-Buies  Montréal  CA-QC      NaN  Montréal-Nord  H1G 6N3   \n",
       "8127  Boulevard Industriel  Montréal  CA-QC      NaN  Montréal-Nord  H1G 4N6   \n",
       "\n",
       "     country timestamp_day timestamp_month  ts_month  ts_hour  ts_season  \\\n",
       "8125      ca    2022-05-09         2022-05         5        0          2   \n",
       "8127      ca    2022-05-09         2022-05         5        0          2   \n",
       "\n",
       "     ts_daypart  target_humidity  target_temperature  target_humidity_cat  \\\n",
       "8125    1_night              NaN                 NaN                  NaN   \n",
       "8127    1_night              NaN                 NaN                  NaN   \n",
       "\n",
       "      target_temperature_cat  target_cat  lat_int  long_int geo_group  fold  \\\n",
       "8125                     NaN         NaN       45       -73    3.east     2   \n",
       "8127                     NaN         NaN       45       -73    3.east     1   \n",
       "\n",
       "      dt_diff  \n",
       "8125      NaN  \n",
       "8127    18.00  "
      ]
     },
     "execution_count": 15,
     "metadata": {},
     "output_type": "execute_result"
    }
   ],
   "source": [
    "df1 = df.sort_values('timestamp')\n",
    "df1['dt_diff'] = df1.groupby('fkLinkSerialId').timestamp.diff().dt.total_seconds()\n",
    "print(df1.shape)\n",
    "df1[:2]"
   ]
  },
  {
   "cell_type": "code",
   "execution_count": 17,
   "id": "8281992c-c181-4020-a586-ec01b1d25694",
   "metadata": {},
   "outputs": [
    {
     "data": {
      "text/plain": [
       "array(['0X0004BFD036AA', '0XB827EBF7489B', '0XB827EB3B7400'], dtype=object)"
      ]
     },
     "execution_count": 17,
     "metadata": {},
     "output_type": "execute_result"
    }
   ],
   "source": [
    "list_ids = df.fkLinkSerialId.unique()\n",
    "list_colors = ['green','blue','orange']\n",
    "list_ids"
   ]
  },
  {
   "cell_type": "code",
   "execution_count": 18,
   "id": "8eea99d5-3a77-4df8-a0f9-c7bcbe1ef5b7",
   "metadata": {
    "tags": []
   },
   "outputs": [
    {
     "name": "stdout",
     "output_type": "stream",
     "text": [
      "18.00   0.52\n",
      "19.00   0.75\n",
      "17.00   0.92\n",
      "20.00   0.95\n",
      "16.00   0.96\n",
      "Name: dt_diff, dtype: float64\n",
      "22.00   0.69\n",
      "21.00   0.84\n",
      "23.00   0.90\n",
      "20.00   0.92\n",
      "0.00    0.93\n",
      "Name: dt_diff, dtype: float64\n",
      "22.00   0.76\n",
      "21.00   0.86\n",
      "23.00   0.95\n",
      "20.00   0.96\n",
      "24.00   0.96\n",
      "Name: dt_diff, dtype: float64\n"
     ]
    },
    {
     "data": {
      "image/png": "[encoded data removed]",
      "text/plain": [
       "<Figure size 576x288 with 1 Axes>"
      ]
     },
     "metadata": {
      "needs_background": "light"
     },
     "output_type": "display_data"
    }
   ],
   "source": [
    "# histograms\n",
    "for i,u in enumerate(list_ids):\n",
    "    f1 = df1.fkLinkSerialId == u\n",
    "    df2 = df1[f1].set_index('timestamp')[['dt_diff']]\n",
    "    \n",
    "    x = df2.dt_diff.value_counts(normalize = True)\n",
    "    print(x.cumsum().iloc[:5])\n",
    "    x.name = u\n",
    "    _ = x.sort_index()[:60].plot(figsize = (8,4), kind = 'area', alpha = 0.4, color = list_colors[i], title = 'Distribution of timestamp differences in seconds', legend = True)\n"
   ]
  },
  {
   "cell_type": "markdown",
   "id": "d9189abc-2de8-402c-ac50-8f5cd80f82fe",
   "metadata": {},
   "source": [
    "### 1. Data preprocessing"
   ]
  },
  {
   "cell_type": "code",
   "execution_count": 83,
   "id": "440845a7-fd75-412e-bc4d-77066e260be2",
   "metadata": {},
   "outputs": [
    {
     "name": "stdout",
     "output_type": "stream",
     "text": [
      "(130024, 2)\n"
     ]
    },
    {
     "data": {
      "text/html": [
       "<div>\n",
       "<style scoped>\n",
       "    .dataframe tbody tr th:only-of-type {\n",
       "        vertical-align: middle;\n",
       "    }\n",
       "\n",
       "    .dataframe tbody tr th {\n",
       "        vertical-align: top;\n",
       "    }\n",
       "\n",
       "    .dataframe thead th {\n",
       "        text-align: right;\n",
       "    }\n",
       "</style>\n",
       "<table border=\"1\" class=\"dataframe\">\n",
       "  <thead>\n",
       "    <tr style=\"text-align: right;\">\n",
       "      <th></th>\n",
       "      <th>target_temperature_pred</th>\n",
       "      <th>target_humidity_pred</th>\n",
       "    </tr>\n",
       "    <tr>\n",
       "      <th>timestamp</th>\n",
       "      <th></th>\n",
       "      <th></th>\n",
       "    </tr>\n",
       "  </thead>\n",
       "  <tbody>\n",
       "    <tr>\n",
       "      <th>2022-05-09 07:06:25</th>\n",
       "      <td>14.53</td>\n",
       "      <td>67.60</td>\n",
       "    </tr>\n",
       "    <tr>\n",
       "      <th>2022-05-09 07:06:47</th>\n",
       "      <td>14.43</td>\n",
       "      <td>72.74</td>\n",
       "    </tr>\n",
       "    <tr>\n",
       "      <th>2022-05-09 07:07:09</th>\n",
       "      <td>14.23</td>\n",
       "      <td>66.47</td>\n",
       "    </tr>\n",
       "  </tbody>\n",
       "</table>\n",
       "</div>"
      ],
      "text/plain": [
       "                     target_temperature_pred  target_humidity_pred\n",
       "timestamp                                                         \n",
       "2022-05-09 07:06:25                    14.53                 67.60\n",
       "2022-05-09 07:06:47                    14.43                 72.74\n",
       "2022-05-09 07:07:09                    14.23                 66.47"
      ]
     },
     "execution_count": 83,
     "metadata": {},
     "output_type": "execute_result"
    }
   ],
   "source": [
    "# data\n",
    "filt = df_out.fkLinkSerialId == '0XB827EBF7489B'\n",
    "feats_out = ['target_temperature_pred','target_humidity_pred']\n",
    "df_ts = df_out[filt].set_index('timestamp')[feats_out].sort_index()\n",
    "print(df_ts.shape)\n",
    "df_ts[:3]"
   ]
  },
  {
   "cell_type": "code",
   "execution_count": 84,
   "id": "984272e5-5af2-452e-9189-1256e55be8e0",
   "metadata": {},
   "outputs": [
    {
     "name": "stdout",
     "output_type": "stream",
     "text": [
      "(499092, 2)\n"
     ]
    },
    {
     "data": {
      "text/html": [
       "<div>\n",
       "<style scoped>\n",
       "    .dataframe tbody tr th:only-of-type {\n",
       "        vertical-align: middle;\n",
       "    }\n",
       "\n",
       "    .dataframe tbody tr th {\n",
       "        vertical-align: top;\n",
       "    }\n",
       "\n",
       "    .dataframe thead th {\n",
       "        text-align: right;\n",
       "    }\n",
       "</style>\n",
       "<table border=\"1\" class=\"dataframe\">\n",
       "  <thead>\n",
       "    <tr style=\"text-align: right;\">\n",
       "      <th></th>\n",
       "      <th>target_temperature_pred</th>\n",
       "      <th>target_humidity_pred</th>\n",
       "    </tr>\n",
       "    <tr>\n",
       "      <th>timestamp</th>\n",
       "      <th></th>\n",
       "      <th></th>\n",
       "    </tr>\n",
       "  </thead>\n",
       "  <tbody>\n",
       "    <tr>\n",
       "      <th>2022-05-09 07:06:00</th>\n",
       "      <td>14.48</td>\n",
       "      <td>70.17</td>\n",
       "    </tr>\n",
       "    <tr>\n",
       "      <th>2022-05-09 07:07:00</th>\n",
       "      <td>12.90</td>\n",
       "      <td>66.81</td>\n",
       "    </tr>\n",
       "    <tr>\n",
       "      <th>2022-05-09 07:08:00</th>\n",
       "      <td>13.31</td>\n",
       "      <td>66.91</td>\n",
       "    </tr>\n",
       "  </tbody>\n",
       "</table>\n",
       "</div>"
      ],
      "text/plain": [
       "                     target_temperature_pred  target_humidity_pred\n",
       "timestamp                                                         \n",
       "2022-05-09 07:06:00                    14.48                 70.17\n",
       "2022-05-09 07:07:00                    12.90                 66.81\n",
       "2022-05-09 07:08:00                    13.31                 66.91"
      ]
     },
     "execution_count": 84,
     "metadata": {},
     "output_type": "execute_result"
    }
   ],
   "source": [
    "# resample to 1 minute interval\n",
    "df_ts = df_ts.resample('1min').median()\n",
    "print(df_ts.shape)\n",
    "df_ts[:3]"
   ]
  },
  {
   "cell_type": "code",
   "execution_count": 144,
   "id": "7ee8e995-3d7d-4d1c-81eb-4a7d715a6d52",
   "metadata": {},
   "outputs": [
    {
     "name": "stdout",
     "output_type": "stream",
     "text": [
      "(39130, 10) (39130, 5)\n"
     ]
    }
   ],
   "source": [
    "# transform to the tensor for training NN\n",
    "PERIODS_IN  = 10\n",
    "PERIODS_OUT = 5\n",
    "\n",
    "n = df_ts.shape[0]\n",
    "n_pers = PERIODS_IN + PERIODS_OUT\n",
    "feat = 'target_temperature_pred'\n",
    "\n",
    "out1 = list()\n",
    "out2 = list()\n",
    "list_mean = list()\n",
    "list_std = list()\n",
    "for i1 in range(n - n_pers):\n",
    "    i2 = i1 + PERIODS_IN\n",
    "    i3 = i2 + PERIODS_OUT\n",
    "    vals = df_ts[i1:i3][feat]\n",
    "    if vals.isnull().any():\n",
    "        continue\n",
    "    m = vals.mean()\n",
    "    s = vals.std()\n",
    "    list_mean.append(m)\n",
    "    list_std.append(s)\n",
    "    vals = (vals - m) / s \n",
    "    if vals.isnull().any():\n",
    "        continue\n",
    "    out1.append(vals[:PERIODS_IN].values)\n",
    "    out2.append(vals[-PERIODS_OUT:].values)\n",
    "\n",
    "x_train = np.array(out1)\n",
    "y_train = np.array(out2)\n",
    "\n",
    "print(x_train.shape, y_train.shape)"
   ]
  },
  {
   "cell_type": "code",
   "execution_count": 145,
   "id": "d6f9a803-6e28-4fdd-948a-3da145b462a0",
   "metadata": {},
   "outputs": [
    {
     "name": "stdout",
     "output_type": "stream",
     "text": [
      "[    0     1     2 ... 39127 39128 39129]\n"
     ]
    }
   ],
   "source": [
    "# shuffle (if needed)\n",
    "ind = np.arange(0,len(x_train))\n",
    "print(ind)\n",
    "\n",
    "# np.random.shuffle(ind)\n",
    "# x_train = x_train[ind]\n",
    "# y_train = y_train[ind]\n",
    "# ind"
   ]
  },
  {
   "cell_type": "markdown",
   "id": "a85551d5-8d93-4a2d-afb5-e43ac42253e7",
   "metadata": {},
   "source": [
    "### 2. Modeling"
   ]
  },
  {
   "cell_type": "code",
   "execution_count": 197,
   "id": "36cc9b13-8024-495d-a72a-92959bcb11d9",
   "metadata": {},
   "outputs": [
    {
     "name": "stdout",
     "output_type": "stream",
     "text": [
      "Model: \"sequential_15\"\n",
      "_________________________________________________________________\n",
      "Layer (type)                 Output Shape              Param #   \n",
      "=================================================================\n",
      "dense_64 (Dense)             (None, 32)                352       \n",
      "_________________________________________________________________\n",
      "dense_65 (Dense)             (None, 16)                528       \n",
      "_________________________________________________________________\n",
      "dense_66 (Dense)             (None, 8)                 136       \n",
      "_________________________________________________________________\n",
      "dense_67 (Dense)             (None, 5)                 45        \n",
      "=================================================================\n",
      "Total params: 1,061\n",
      "Trainable params: 1,061\n",
      "Non-trainable params: 0\n",
      "_________________________________________________________________\n"
     ]
    }
   ],
   "source": [
    "from keras import layers\n",
    "from keras import models\n",
    "from keras import Input\n",
    "from tensorflow.keras import applications\n",
    "\n",
    "# 1) Create model - MLP\n",
    "model = models.Sequential()\n",
    "# model.add(layers.Dense(256, activation='relu', input_dim=PERIODS_IN))\n",
    "# model.add(layers.Dropout(0.5))\n",
    "# model.add(layers.Dense(128, activation='relu', input_dim=PERIODS_IN))\n",
    "# model.add(layers.Dropout(0.5))\n",
    "# model.add(layers.Dense(64, activation='relu', input_dim=PERIODS_IN))\n",
    "# model.add(layers.Dropout(0.5))\n",
    "model.add(layers.Dense(32, activation='relu', input_dim=PERIODS_IN))\n",
    "# model.add(layers.Dropout(0.5))\n",
    "model.add(layers.Dense(16, activation='relu'))\n",
    "# model.add(layers.Dropout(0.5))\n",
    "model.add(layers.Dense(8, activation='relu',))\n",
    "# model.add(layers.Dropout(0.5))\n",
    "model.add(layers.Dense(PERIODS_OUT, activation='sigmoid'))\n",
    "model.summary()"
   ]
  },
  {
   "cell_type": "code",
   "execution_count": 198,
   "id": "24479f7b-8455-49eb-92d0-16a15583c222",
   "metadata": {},
   "outputs": [],
   "source": [
    "from keras import optimizers\n",
    "from keras import losses\n",
    "from keras import metrics\n",
    "from keras import callbacks\n",
    "\n",
    "# 2) compile model\n",
    "model.compile(\n",
    "    optimizer = optimizers.rmsprop_v2.RMSprop(lr=0.001),\n",
    "    loss      = losses.mae,\n",
    "    metrics   = ['mae']\n",
    ")"
   ]
  },
  {
   "cell_type": "code",
   "execution_count": 199,
   "id": "9e78e60f-b11a-467c-84c2-74e500294316",
   "metadata": {
    "tags": []
   },
   "outputs": [],
   "source": [
    "# 3) train model\n",
    "history = model.fit(\n",
    "    x_train,\n",
    "    y_train,\n",
    "    epochs = 200,\n",
    "    batch_size = 1024,\n",
    "    validation_split = 0.25,\n",
    "    callbacks = [],\n",
    "    verbose = 0,\n",
    ")"
   ]
  },
  {
   "cell_type": "code",
   "execution_count": 200,
   "id": "b04b76a2-ed97-46e8-8c74-46a194d7b379",
   "metadata": {},
   "outputs": [
    {
     "data": {
      "image/png": "[encoded data removed]",
      "text/plain": [
       "<Figure size 432x288 with 1 Axes>"
      ]
     },
     "metadata": {
      "needs_background": "light"
     },
     "output_type": "display_data"
    }
   ],
   "source": [
    "# 4) plotting\n",
    "df_res = pd.DataFrame(history.history)\n",
    "_,ax = plt.subplots(1,1,figsize = (6,4))\n",
    "p = df_res.iloc[:,[0,2]].plot(ax = ax, title = 'Training and validation Loss (MAE)')"
   ]
  },
  {
   "cell_type": "code",
   "execution_count": 201,
   "id": "164a0036-e710-4fc9-a1ad-c350fd45c670",
   "metadata": {},
   "outputs": [],
   "source": [
    "# Make predictions\n",
    "st_std  = np.array(list_std)\n",
    "st_mean = np.array(list_mean)\n",
    "\n",
    "n = x_train.shape[0]\n",
    "n1 = -int(0.25*n)\n",
    "\n",
    "yv = y_train[n1:]*st_std[n1:,np.newaxis] + st_mean[n1:,np.newaxis]\n",
    "\n",
    "yv_pred = model.predict(x_train[n1:])\n",
    "yv_pred = yv_pred*st_std[n1:,np.newaxis] + st_mean[n1:,np.newaxis]\n",
    "\n",
    "yv_last = x_train[n1:,-1]*st_std[n1:] + st_mean[n1:]"
   ]
  },
  {
   "cell_type": "code",
   "execution_count": 218,
   "id": "ad7d2c71-0b14-4a22-855d-98b0ff49a6dc",
   "metadata": {},
   "outputs": [
    {
     "name": "stdout",
     "output_type": "stream",
     "text": [
      "(9778, 10) (9778, 5)\n",
      "(29334, 10) (29334, 5)\n"
     ]
    }
   ],
   "source": [
    "print(x_train[n1:].shape, y_train[n1:].shape)\n",
    "print(x_train[:n1].shape, y_train[:n1].shape)"
   ]
  },
  {
   "cell_type": "code",
   "execution_count": 202,
   "id": "f3bb24ec-6af2-4b91-ba63-31b20f782407",
   "metadata": {},
   "outputs": [
    {
     "data": {
      "text/plain": [
       "0.347068528948552"
      ]
     },
     "execution_count": 202,
     "metadata": {},
     "output_type": "execute_result"
    }
   ],
   "source": [
    "abs(yv - yv_pred).mean()"
   ]
  },
  {
   "cell_type": "code",
   "execution_count": 203,
   "id": "cf8af5f0-79da-4b60-9717-3622fa34a47b",
   "metadata": {},
   "outputs": [
    {
     "data": {
      "text/plain": [
       "0.4691980180135837"
      ]
     },
     "execution_count": 203,
     "metadata": {},
     "output_type": "execute_result"
    }
   ],
   "source": [
    "abs(yv - yv_last[:,np.newaxis]).mean()"
   ]
  },
  {
   "cell_type": "code",
   "execution_count": null,
   "id": "5c529257-96ef-4df4-8059-8955d9f52df8",
   "metadata": {},
   "outputs": [],
   "source": []
  }
 ],
 "metadata": {
  "kernelspec": {
   "display_name": "Python 3",
   "language": "python",
   "name": "python3"
  },
  "language_info": {
   "codemirror_mode": {
    "name": "ipython",
    "version": 3
   },
   "file_extension": ".py",
   "mimetype": "text/x-python",
   "name": "python",
   "nbconvert_exporter": "python",
   "pygments_lexer": "ipython3",
   "version": "3.8.5"
  }
 },
 "nbformat": 4,
 "nbformat_minor": 5
}
